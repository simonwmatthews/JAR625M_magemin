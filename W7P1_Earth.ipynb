{
 "cells": [
  {
   "cell_type": "markdown",
   "id": "0f752501-cbdd-40a7-ab47-676ceca6fef4",
   "metadata": {},
   "source": [
    "# W7 - P1 - Thermodynamic modelling of planetary interiors\n",
    "\n",
    "*Simon Matthews (simonm@hi.is)*\n",
    "\n",
    "See the word document on Canvas for more information.\n",
    "\n",
    "Note that MAGEMin is written in the programming language Julia, not Python.\n",
    "\n",
    "## Earth\n",
    "\n"
   ]
  },
  {
   "cell_type": "markdown",
   "id": "6e7dcb93-5333-4ee1-9b6d-066e6539c826",
   "metadata": {},
   "source": [
    "First, import the MAGEMin module:"
   ]
  },
  {
   "cell_type": "code",
   "execution_count": null,
   "id": "3251b4f0-9eed-48e2-990f-5c8e43c7154e",
   "metadata": {},
   "outputs": [],
   "source": [
    "using MAGEMin_C\n",
    "data    = Initialize_MAGEMin(\"mtl\", verbose=false);"
   ]
  },
  {
   "cell_type": "markdown",
   "id": "2040a131-4699-4c61-a283-2de2b1a8129a",
   "metadata": {},
   "source": [
    "We need to define the mantle bulk composition (in wt%):"
   ]
  },
  {
   "cell_type": "code",
   "execution_count": null,
   "id": "45b5e6f8-479a-44ab-a2be-4c3efed3a36b",
   "metadata": {},
   "outputs": [],
   "source": [
    "Xoxides = [\"SiO2\"; \"Al2O3\"; \"CaO\"; \"MgO\"; \"FeO\"; \"Na2O\";];\n",
    "X       = [44.9; 4.44; 3.54; 37.7; 8.03; 0.36;];\n",
    "sys_in  = \"wt\""
   ]
  },
  {
   "cell_type": "markdown",
   "id": "ed26f7b7-5984-4bb1-983d-2618168a3eff",
   "metadata": {},
   "source": [
    "Now we are ready to run calculations at our chosen pressures and temperatures:"
   ]
  },
  {
   "cell_type": "code",
   "execution_count": null,
   "id": "d78d5433-d8c5-4d4d-a07b-a6c081eaa6b2",
   "metadata": {},
   "outputs": [],
   "source": [
    "P,T     = 20.0, 1350.0 # kbar, degC\n",
    "out     = single_point_minimization(P, T, data, X=X, Xoxides=Xoxides, sys_in=sys_in)"
   ]
  },
  {
   "cell_type": "code",
   "execution_count": null,
   "id": "62236574-8efc-4ebb-9bf5-ec2c5716f74e",
   "metadata": {},
   "outputs": [],
   "source": []
  }
 ],
 "metadata": {
  "kernelspec": {
   "display_name": "Julia 1.11.3",
   "language": "julia",
   "name": "julia-1.11"
  },
  "language_info": {
   "file_extension": ".jl",
   "mimetype": "application/julia",
   "name": "julia",
   "version": "1.11.3"
  }
 },
 "nbformat": 4,
 "nbformat_minor": 5
}
