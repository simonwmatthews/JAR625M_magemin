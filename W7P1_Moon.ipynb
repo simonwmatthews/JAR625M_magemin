{
 "cells": [
  {
   "cell_type": "markdown",
   "id": "552cc383-375b-4e19-a545-fa9724fe38ef",
   "metadata": {},
   "source": [
    "# W7 - P1 - Thermodynamic modelling of planetary interiors\n",
    "\n",
    "*Simon Matthews (simonm@hi.is)*\n",
    "\n",
    "See the word document on Canvas for more information.\n",
    "\n",
    "Note that MAGEMin is written in the programming language Julia, not Python.\n",
    "\n",
    "## The Moon\n",
    "\n"
   ]
  },
  {
   "cell_type": "markdown",
   "id": "ab8dd27d-399b-418b-9e1f-87031e5cebb8",
   "metadata": {},
   "source": [
    "First, load MAGEMin:"
   ]
  },
  {
   "cell_type": "code",
   "execution_count": 1,
   "id": "10b02208-f980-41cb-8c7e-4685e108c72c",
   "metadata": {},
   "outputs": [
    {
     "name": "stdout",
     "output_type": "stream",
     "text": [
      "Using libMAGEMin.dylib from MAGEMin_jll\n"
     ]
    }
   ],
   "source": [
    "using MAGEMin_C"
   ]
  },
  {
   "cell_type": "markdown",
   "id": "f06f9617-2a27-491b-a1d0-ae0bf03ac4ce",
   "metadata": {},
   "source": [
    "Now set up the calculation. You can change P, T, and the bulk composition below. Note the composition is provided in mol% (but you can read out how this converts to wt% below)."
   ]
  },
  {
   "cell_type": "code",
   "execution_count": 2,
   "id": "e2721e82-fbf7-4e78-8f66-fa863c8d4d05",
   "metadata": {},
   "outputs": [
    {
     "data": {
      "text/plain": [
       "Pressure          : 12.0      [kbar]\n",
       "Temperature       : 1350.0    [Celsius]\n",
       "     Stable phase | Fraction (mol fraction) \n",
       "              cpx   0.02838 \n",
       "              liq   0.11731 \n",
       "               ol   0.64202 \n",
       "              opx   0.21098 \n",
       "              spl   0.00131 \n",
       "     Stable phase | Fraction (wt fraction) \n",
       "              cpx   0.03045 \n",
       "              liq   0.13771 \n",
       "               ol   0.60966 \n",
       "              opx   0.2201 \n",
       "              spl   0.00207 \n",
       "     Stable phase | Fraction (vol fraction) \n",
       "              cpx   0.02992 \n",
       "              liq   0.15314 \n",
       "               ol   0.59904 \n",
       "              opx   0.21623 \n",
       "              spl   0.00167 \n",
       "Gibbs free energy : -857.006163  (200 iterations; 158.98 ms)\n",
       "Oxygen fugacity          : -6.730911824651842\n",
       "Delta QFM                : -0.6097742429030795\n"
      ]
     },
     "execution_count": 2,
     "metadata": {},
     "output_type": "execute_result"
    }
   ],
   "source": [
    "data    = Initialize_MAGEMin(\"ig\", verbose=false);\n",
    "P,T     = 12.0, 1350.0\n",
    "Xoxides = [\"SiO2\"; \"Al2O3\"; \"CaO\";  \"MgO\"; \"FeO\"; \"Fe2O3\"; \"K2O\"; \"Na2O\"; \"TiO2\"; \"Cr2O3\"; \"H2O\"];\n",
    "X       = [38.494;   1.776; 2.824; 50.566; 5.694;   0.096;  0.01;   0.25;    0.1;   0.109;   0.0];\n",
    "sys_in  = \"mol\"\n",
    "out     = single_point_minimization(P, T, data, X=X, Xoxides=Xoxides, sys_in=sys_in)"
   ]
  },
  {
   "cell_type": "markdown",
   "id": "393323e2-41c2-46e2-9083-443f2ccc333d",
   "metadata": {},
   "source": [
    "Now print out more detailed information (find the right table and row for the wt% composition of the liquid!)."
   ]
  },
  {
   "cell_type": "code",
   "execution_count": 21,
   "id": "bd9763e5-2cf4-4e5f-80d5-8b0d7521332b",
   "metadata": {},
   "outputs": [
    {
     "name": "stdout",
     "output_type": "stream",
     "text": [
      "Stable phases @ {12.0, 1200.0}  kbar/°C :\n",
      "   opx     ol    spl    cpx   \n",
      " \n",
      "Compositional variables (solution phase):\n",
      "            opx  0.09118  0.16226  0.05176 -0.04463  0.01939  0.00182  0.00963   0.0096 \n",
      "             ol  0.09899  0.00416  0.00021 \n",
      "            spl  0.15349  0.01781   0.1352  0.00065  0.49971  0.10828    0.028 \n",
      "            cpx  0.09757  0.09866  0.32143  0.10392 -0.03617  0.01729  0.00413  0.02082  0.00461 \n",
      "\n",
      "End-members fraction [mol% 1 atom basis](solution phase):\n",
      "                      en       fs       fm      odi     mgts     cren     obuf     mess      ojd \n",
      "            opx  0.65375  0.03864  0.08399  0.05176  0.12961  0.00963  0.00364  0.01939   0.0096 \n",
      "                    mont       fa       fo      cfm \n",
      "             ol  0.00416  0.09877  0.89706   1.0e-5 \n",
      "                     nsp      isp      nhc      ihc      nmt      imt      pcr     qndm \n",
      "            spl   0.4803  0.23157  0.13627  0.00063 -0.01354  0.02893   0.1352  0.00065 \n",
      "                      di      cfs     cats     crdi     cess     cbuf       jd      cen      cfm      kjd \n",
      "            cpx  0.47137  0.04995   0.0356  0.00413  0.01729  0.04165  0.10392  0.26064  0.01084  0.00461 \n",
      "\n",
      "End-members fraction [wt%](solution phase):\n",
      "                      en       fs       fm      odi     mgts     cren     obuf     mess      ojd \n",
      "            opx   0.6317  0.04907  0.09391  0.05395  0.12622  0.01054   0.0037  0.02157  0.00934 \n",
      "                    mont       fa       fo      cfm \n",
      "             ol  0.00443  0.13695  0.85861   1.0e-5 \n",
      "                     nsp      isp      nhc      ihc      nmt      imt      pcr     qndm \n",
      "            spl  0.44147  0.21285  0.15303  0.00071 -0.02025  0.04328  0.16797  0.00094 \n",
      "                      di      cfs     cats     crdi     cess     cbuf       jd      cen      cfm      kjd \n",
      "            cpx  0.47561  0.06141  0.03618  0.00468   0.0199  0.04409  0.09788  0.24382  0.01174  0.00469 \n",
      "\n",
      "Oxide compositions [mol% 1 atom basis] (normalized):\n",
      "                    SiO2    Al2O3      CaO      MgO      FeO      K2O     Na2O     TiO2        O    Cr2O3      H2O \n",
      "            SYS  0.38526  0.01777  0.02826  0.50608  0.05697   0.0001   0.0025    0.001  0.00096  0.00109      0.0 \n",
      "            opx  0.47742  0.03916  0.01345  0.41756  0.04693      0.0  0.00125  0.00047  0.00252  0.00125      0.0 \n",
      "             ol  0.33333      0.0  0.00139  0.59943  0.06585      0.0      0.0      0.0      0.0      0.0      0.0 \n",
      "            spl      0.0  0.41782      0.0  0.41698  0.09076      0.0      0.0  0.00032  0.00758  0.06655      0.0 \n",
      "            cpx  0.49631  0.03169   0.1488  0.26738  0.03342   0.0006  0.01356  0.00544  0.00226  0.00054      0.0 \n",
      "\n",
      "Oxide compositions [wt%] (normalized):\n",
      "                    SiO2    Al2O3      CaO      MgO      FeO      K2O     Na2O     TiO2        O    Cr2O3      H2O \n",
      "            SYS  0.44982  0.03522   0.0308  0.39635  0.07954  0.00018  0.00301  0.00155   0.0003  0.00322      0.0 \n",
      "            opx  0.53142  0.07397  0.01397  0.31177  0.06247      0.0  0.00143   0.0007  0.00075  0.00352      0.0 \n",
      "             ol  0.40877      0.0  0.00159  0.49307  0.09658      0.0      0.0      0.0      0.0      0.0      0.0 \n",
      "            spl      0.0  0.55915      0.0  0.22056  0.08559      0.0      0.0  0.00033  0.00159  0.13277      0.0 \n",
      "            cpx  0.53228  0.05768  0.14896  0.19235  0.04286  0.00101  0.01501  0.00775  0.00064  0.00146      0.0 \n",
      "\n",
      "\n",
      "Stable mineral assemblage:\n",
      "          phase  mode[mol1at] mode[wt]        f           G        V       Cp  rho[kg/m3]  Thermal_Exp Entropy[J/K] Enthalpy[J] BulkMod[GPa] ShearMod[GPa]   Vp[km/s]   Vs[km/s]\n",
      "            opx        0.1986  0.20831  0.20915  0.24445 -3435.51082  64.3911  0.26875  3226.65554     4.0e-5    0.12129   -661.12816       83.36263      60.82687    7.13938    4.34182 \n",
      "             ol       0.62389    0.594  0.59505  0.34921 -2382.72163 45.44968  0.18718  3233.87626     4.0e-5    0.12313   -650.68728      105.00406      61.85093    7.61389    4.37332 \n",
      "            spl       0.01132  0.01676  0.01458  0.34921 -2447.82814 41.54634  0.18619  3725.23686     3.0e-5    0.12171   -675.51392       164.7071      93.46264    8.81283     5.0089 \n",
      "            cpx       0.16619  0.18092  0.18122  0.24445 -3504.44825 66.35627  0.26347   3234.2048     4.0e-5    0.12202   -676.90379       93.69093      53.01308    7.12909    4.04863 \n",
      "            SYS           1.0      1.0      1.0           -838.44258                        4.0e-5                       0.21605                    1268.14386                      15.88819                     3240.6676               0.12257    -657.88345      98.88949      60.31857    7.43858    4.31428 \n",
      "\n",
      "Gamma (chemical potential of oxides):\n",
      "    SiO2  -1026.28529     \n",
      "   Al2O3  -1854.22403     \n",
      "     CaO  -830.70573      \n",
      "     MgO  -705.26632      \n",
      "     FeO  -428.80429      \n",
      "     K2O  -1001.46316     \n",
      "    Na2O  -897.82161      \n",
      "    TiO2  -1096.50332     \n",
      "       O  -284.04826      \n",
      "   Cr2O3  -1423.73297     \n",
      "     H2O  0.0             \n",
      "\n",
      "delta Gibbs energy (G-hyperplane distance):\n",
      "     opx  -1.1371608012410214e-7 \n",
      "      ol  -3.972227032935913e-7 \n",
      "     spl  -1.3824556108276697e-5 \n",
      "     cpx  -1.1489814518851491e-7 \n",
      "\n",
      "mass residual :  8.700684699896225e-6\n",
      "# iterations  :  98\n",
      "status        :  0\n",
      "\n"
     ]
    }
   ],
   "source": [
    "print_info(out)"
   ]
  },
  {
   "cell_type": "code",
   "execution_count": null,
   "id": "a0a74bfe-4c5b-46b7-85a3-004143433b2a",
   "metadata": {},
   "outputs": [],
   "source": []
  }
 ],
 "metadata": {
  "kernelspec": {
   "display_name": "Julia 1.11.3",
   "language": "julia",
   "name": "julia-1.11"
  },
  "language_info": {
   "file_extension": ".jl",
   "mimetype": "application/julia",
   "name": "julia",
   "version": "1.11.3"
  }
 },
 "nbformat": 4,
 "nbformat_minor": 5
}
